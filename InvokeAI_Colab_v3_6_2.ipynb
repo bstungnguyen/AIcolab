{
  "cells": [
    {
      "cell_type": "code",
      "execution_count": null,
      "metadata": {
        "colab": {
          "base_uri": "https://localhost:8080/"
        },
        "id": "zwDeTWwndy-I",
        "outputId": "29176c82-9cf5-4f83-e429-67af0e25c188"
      },
      "outputs": [
        {
          "output_type": "stream",
          "name": "stdout",
          "text": [
            "/content/gdrive/MyDrive/InvokeAI\n",
            "\u001b[1;32mInstalling dependencies...\n",
            "✔ Done\n"
          ]
        }
      ],
      "source": [
        "#@markdown # **3. Install Dependencies (Required)**\n",
        "#@markdown ---\n",
        "#@markdown - It takes about ~8-10 minutes to install the required dependencies\n",
        "#@markdown - In case you think it's not working, don't worry. Sit back and relax 😉\n",
        "\n",
        "import warnings\n",
        "warnings.filterwarnings(\"ignore\")\n",
        "\n",
        "%cd /content/gdrive/MyDrive/InvokeAI\n",
        "\n",
        "# # Add the directory of your cloned repository to sys.path\n",
        "import sys\n",
        "sys.path.append('/content/gdrive/MyDrive/InvokeAI')\n",
        "\n",
        "print('\u001b[1;32mInstalling dependencies...')\n",
        "\n",
        "# Installing requirements from Dependencies folder\n",
        "!pip install --upgrade pip setuptools > nul 2>&1\n",
        "!pip install --use-pep517 --upgrade --force-reinstall -r Dependencies/Requirements.txt > nul 2>&1\n",
        "!pip install -q -e . > nul 2>&1\n",
        "\n",
        "print ('\\u2714 Done')"
      ]
    },
    {
      "cell_type": "code",
      "source": [
        "#@markdown # Option 1: Starting the Web UI with ngrok\n",
        "!pip install pyngrok\n",
        "\n",
        "from pyngrok import ngrok, conf\n",
        "import fileinput\n",
        "import sys\n",
        "\n",
        "Ngrok_token = \"2S8EGiMIUPE1Qj3fNmhCJUlxqZO_6G59BkdiDcyKM1oXtwxfA\" #@param {type:\"string\"}\n",
        "#@markdown - Add ngrok token (obtainable from https://ngrok.com)\n",
        "\n",
        "#@markdown Only works with InvokeAI 3.0.2 and later\n",
        "\n",
        "share=''\n",
        "if Ngrok_token!=\"\":\n",
        "  ngrok.kill()\n",
        "  srv=ngrok.connect(9090 , pyngrok_config=conf.PyngrokConfig(auth_token=Ngrok_token),\n",
        "                    bind_tls=True).public_url\n",
        "  print(srv)\n",
        "  get_ipython().system(\"invokeai-web  --root /content/gdrive/MyDrive/InvokeAI/GUI\")\n",
        "else:\n",
        "  print('An ngrok token is required. You can get one on https://ngrok.com and paste it into the ngrok_token field.')"
      ],
      "metadata": {
        "id": "ARgtcHZJnxWL"
      },
      "execution_count": null,
      "outputs": []
    },
    {
      "cell_type": "code",
      "execution_count": null,
      "metadata": {
        "id": "BWoTrZLRP5zh"
      },
      "outputs": [],
      "source": [
        "#@markdown # **5. Run InvokeAI**\n",
        "#@markdown - Launching InvokeAI Web UI via SSH Tunnel\n",
        "#@markdown - The outputs will be saved in the `Outputs` folder under `/content/gdrive/MyDrive/InvokeAI-v3.6.2/GUI` path\n",
        "#@markdown - Open this first link ending with `.moe` to access the InvokeAI WebUI, once you see the this kind of url `http://127.0.0.1:9090` at the bottom\n",
        "#@markdown ---\n",
        "\n",
        "import os\n",
        "import shlex\n",
        "import subprocess\n",
        "from IPython.display import clear_output\n",
        "from pathlib import Path\n",
        "from typing import Union\n",
        "clear_output()\n",
        "\n",
        "\n",
        "import warnings\n",
        "warnings.filterwarnings(\"ignore\")\n",
        "\n",
        "os.environ['TF_CPP_MIN_LOG_LEVEL'] = '3'\n",
        "\n",
        "id_rsa_file = \"/root/.ssh/id_rsa\"\n",
        "id_rsa_pub_file = \"/root/.ssh/id_rsa.pub\"\n",
        "if os.path.exists(id_rsa_file):\n",
        "    os.remove(id_rsa_file)\n",
        "if os.path.exists(id_rsa_pub_file):\n",
        "    os.remove(id_rsa_pub_file)\n",
        "clear_output()\n",
        "\n",
        "def gen_key(path: Union[str, Path]) -> None:\n",
        "    path = Path(path)\n",
        "    arg_string = f'ssh-keygen -t rsa -b 4096 -N \"\" -q -f {path.as_posix()}'\n",
        "    args = shlex.split(arg_string)\n",
        "    subprocess.run(args, check=True)\n",
        "    path.chmod(0o600)\n",
        "\n",
        "ssh_name = \"id_rsa\"\n",
        "ssh_path = Path(\"/root/.ssh/\") / ssh_name\n",
        "gen_key(ssh_path)\n",
        "clear_output()\n",
        "\n",
        "import threading\n",
        "def tunnel():\n",
        "  !ssh -R 80:127.0.0.1:9090 -o StrictHostKeyChecking=no -i /root/.ssh/id_rsa remote.moe\n",
        "threading.Thread(target=tunnel, daemon=True).start()\n",
        "\n",
        "%cd /content/gdrive/MyDrive/InvokeAI/\n",
        "!python /content/gdrive/MyDrive/InvokeAI/scripts/invokeai-web.py --root /content/gdrive/MyDrive/InvokeAI/GUI"
      ]
    }
  ],
  "metadata": {
    "accelerator": "GPU",
    "colab": {
      "gpuType": "T4",
      "provenance": []
    },
    "kernelspec": {
      "display_name": "Python 3",
      "name": "python3"
    },
    "language_info": {
      "name": "python"
    }
  },
  "nbformat": 4,
  "nbformat_minor": 0
}