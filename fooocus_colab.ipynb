{
  "cells": [
    {
      "cell_type": "code",
      "execution_count": null,
      "metadata": {
        "id": "VjYy0F2gZIPR"
      },
      "outputs": [],
      "source": [
        # Connect GDrive
from google.colab import drive
drive.mount("/content/gdrive")
# Install
!pip install pygit2==1.12.2
%cd /content/
!git clone https://github.com/lllyasviel/Fooocus.git
%cd /content/Fooocus
!rm /content/Fooocus/config.txt
!rm /content/Fooocus/sorted_styles.json
!wget https://huggingface.co/bstungnguyen/Fooocus/resolve/main/config.txt
!wget https://huggingface.co/bstungnguyen/Fooocus/resolve/main/sorted_styles.json
%cd /content/Fooocus/sdxl_styles
!wget https://huggingface.co/bstungnguyen/Fooocus/resolve/main/sdxl_styles_tn.json
%cd /content/Fooocus/presets
!wget https://huggingface.co/bstungnguyen/Fooocus/resolve/main/bstunglight.json
%cd /content/Fooocus
!python entry_with_update.py --share --always-high-vram
      ]
    }
  ],
  "metadata": {
    "accelerator": "GPU",
    "colab": {
      "gpuType": "T4",
      "provenance": []
    },
    "kernelspec": {
      "display_name": "Python 3",
      "name": "python3"
    },
    "language_info": {
      "name": "python"
    }
  },
  "nbformat": 4,
  "nbformat_minor": 0
}
